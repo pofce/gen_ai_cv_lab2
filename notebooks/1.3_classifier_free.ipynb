{
 "cells": [
  {
   "cell_type": "code",
   "execution_count": null,
   "metadata": {
    "_cell_guid": "b1076dfc-b9ad-4769-8c92-a6c4dae69d19",
    "_uuid": "8f2839f25d086af736a60e9eeb907d3b93b6e0e5"
   },
   "outputs": [],
   "source": [
    "!mkdir -p data models"
   ]
  },
  {
   "cell_type": "code",
   "execution_count": 1,
   "metadata": {},
   "outputs": [
    {
     "name": "stdout",
     "output_type": "stream",
     "text": [
      "Writing models/cond_unet.py\n"
     ]
    }
   ],
   "source": [
    "%%writefile models/cond_unet.py\n",
    "import torch\n",
    "import torch.nn as nn\n",
    "import torch.nn.functional as F\n",
    "from models.unet import UNet  # reuse your existing UNet components\n",
    "\n",
    "\n",
    "class CrossAttentionBlock(nn.Module):\n",
    "    def __init__(self, channels, cond_dim):\n",
    "        super().__init__()\n",
    "        self.norm = nn.GroupNorm(32, channels)\n",
    "        self.to_q = nn.Conv2d(channels, channels, kernel_size=1)\n",
    "        self.to_k = nn.Linear(cond_dim, channels)\n",
    "        self.to_v = nn.Linear(cond_dim, channels)\n",
    "        self.proj_out = nn.Conv2d(channels, channels, kernel_size=1)\n",
    "    \n",
    "    def forward(self, x, cond):\n",
    "        # x: [B, C, H, W]; cond: [B, cond_dim]\n",
    "        B, C, H, W = x.shape\n",
    "        q = self.to_q(self.norm(x)).reshape(B, C, -1).permute(0, 2, 1)  # [B, H*W, C]\n",
    "        # Use the condition as a single token\n",
    "        k = self.to_k(cond).unsqueeze(1)  # [B, 1, C]\n",
    "        v = self.to_v(cond).unsqueeze(1)  # [B, 1, C]\n",
    "        attn = torch.bmm(q, k.transpose(1, 2)) * (C ** -0.5)  # [B, H*W, 1]\n",
    "        attn = torch.softmax(attn, dim=-1)\n",
    "        out = torch.bmm(attn, v)  # [B, H*W, C]\n",
    "        out = out.permute(0, 2, 1).view(B, C, H, W)\n",
    "        return x + self.proj_out(out)\n",
    "\n",
    "\n",
    "class ConditionalUNet(UNet):\n",
    "    def __init__(self, num_classes, cond_drop_prob=0.1, **kwargs):\n",
    "        super().__init__(**kwargs)\n",
    "        self.num_classes = num_classes\n",
    "        self.cond_drop_prob = cond_drop_prob\n",
    "        # Embed class labels into a vector (here, dimension 256)\n",
    "        self.class_emb = nn.Embedding(num_classes, 256)\n",
    "        self.cross_attn = CrossAttentionBlock(self.mid_block1.conv2.out_channels, 256)\n",
    "    \n",
    "    def forward(self, x, t, class_label=None):\n",
    "        if self.training and class_label is not None:\n",
    "            if torch.rand(1).item() < self.cond_drop_prob:\n",
    "                class_label = None\n",
    "        if class_label is None:\n",
    "            cond = torch.zeros(x.size(0), 256, device=x.device)\n",
    "        else:\n",
    "            cond = self.class_emb(class_label)\n",
    "        \n",
    "        t = t.to(x.device)\n",
    "        t_emb = self.time_embedding(t)\n",
    "        x = self.initial_conv(x)\n",
    "        skip_connections_all = []\n",
    "        for block in self.down_blocks:\n",
    "            x, skip_connections = block(x, t_emb)\n",
    "            skip_connections_all.append(skip_connections)\n",
    "        x = self.mid_block1(x, t_emb)\n",
    "        x = self.mid_attn(x)\n",
    "        x = self.cross_attn(x, cond)\n",
    "        x = self.mid_block2(x, t_emb)\n",
    "        for block in self.up_blocks:\n",
    "            skip_connections = skip_connections_all.pop()\n",
    "            x = block(x, skip_connections, t_emb)\n",
    "        x = self.final_norm(x)\n",
    "        x = self.final_act(x)\n",
    "        return self.final_conv(x)"
   ]
  },
  {
   "cell_type": "code",
   "execution_count": 2,
   "metadata": {},
   "outputs": [
    {
     "name": "stdout",
     "output_type": "stream",
     "text": [
      "Writing models/cf_guided_diffusion.py\n"
     ]
    }
   ],
   "source": [
    "%%writefile models/cf_guided_diffusion.py\n",
    "import torch\n",
    "import torch.nn.functional as F\n",
    "import pytorch_lightning as pl\n",
    "\n",
    "class ClassifierFreeDiffusionModel(pl.LightningModule):\n",
    "    def __init__(self, model, T=1000, beta_start=1e-4, beta_end=0.02, lr=1e-3, guidance_weight=5.0):\n",
    "        super().__init__()\n",
    "        self.model = model\n",
    "        self.T = T\n",
    "        self.lr = lr\n",
    "        self.guidance_weight = guidance_weight\n",
    "\n",
    "        beta = torch.linspace(beta_start, beta_end, T)\n",
    "        alpha = 1.0 - beta\n",
    "        alpha_bar = torch.cumprod(alpha, dim=0)\n",
    "        self.register_buffer(\"beta\", beta)\n",
    "        self.register_buffer(\"alpha\", alpha)\n",
    "        self.register_buffer(\"alpha_bar\", alpha_bar)\n",
    "        self.register_buffer(\"sqrt_alpha_bar\", torch.sqrt(alpha_bar))\n",
    "        self.register_buffer(\"sqrt_one_minus_alpha_bar\", torch.sqrt(1 - alpha_bar))\n",
    "\n",
    "    def forward(self, x, t, class_label=None):\n",
    "        return self.model(x, t, class_label)\n",
    "    \n",
    "    def training_step(self, batch, batch_idx):\n",
    "        x, labels = batch\n",
    "        B = x.size(0)\n",
    "        device = x.device\n",
    "        t = torch.randint(0, self.T, (B,), device=device)\n",
    "        sqrt_alpha_bar_t = self.sqrt_alpha_bar[t].view(B, 1, 1, 1)\n",
    "        sqrt_one_minus_alpha_bar_t = self.sqrt_one_minus_alpha_bar[t].view(B, 1, 1, 1)\n",
    "        noise = torch.randn_like(x)\n",
    "        x_t = sqrt_alpha_bar_t * x + sqrt_one_minus_alpha_bar_t * noise\n",
    "        \n",
    "        pred_noise = self(x_t, t, class_label=labels)\n",
    "        loss = F.mse_loss(pred_noise, noise)\n",
    "        self.log(\"train_loss\", loss)\n",
    "        return loss\n",
    "\n",
    "    def configure_optimizers(self):\n",
    "        return torch.optim.Adam(self.model.parameters(), lr=self.lr)\n",
    "\n",
    "    @torch.no_grad()\n",
    "    def sample(self, n_samples, class_label, ddim_steps=None):\n",
    "        device = self.device\n",
    "        if ddim_steps is None:\n",
    "            ddim_steps = self.T\n",
    "            step_size = 1\n",
    "        else:\n",
    "            step_size = self.T // ddim_steps\n",
    "        \n",
    "        x = torch.randn(n_samples, 1, 32, 32, device=device) \n",
    "        for i in range(self.T - 1, -1, -step_size):\n",
    "            t = torch.full((n_samples,), i, device=device, dtype=torch.long)\n",
    "            eps_cond = self(x, t, class_label=class_label)\n",
    "            eps_uncond = self(x, t, class_label=None)\n",
    "            eps = eps_uncond + self.guidance_weight * (eps_cond - eps_uncond)\n",
    "            \n",
    "            sqrt_alpha_bar_t = self.sqrt_alpha_bar[i].view(1, 1, 1, 1)\n",
    "            sqrt_one_minus_alpha_bar_t = self.sqrt_one_minus_alpha_bar[i].view(1, 1, 1, 1)\n",
    "            x0_pred = (x - sqrt_one_minus_alpha_bar_t * eps) / sqrt_alpha_bar_t\n",
    "            t_prev = max(i - step_size, 0)\n",
    "            sqrt_alpha_bar_t_prev = self.sqrt_alpha_bar[t_prev].view(1, 1, 1, 1)\n",
    "            sqrt_one_minus_alpha_bar_t_prev = self.sqrt_one_minus_alpha_bar[t_prev].view(1, 1, 1, 1)\n",
    "            x = sqrt_alpha_bar_t_prev * x0_pred + sqrt_one_minus_alpha_bar_t_prev * eps\n",
    "        return x"
   ]
  },
  {
   "cell_type": "code",
   "execution_count": 3,
   "metadata": {},
   "outputs": [
    {
     "name": "stdout",
     "output_type": "stream",
     "text": [
      "Writing data/mnist.py\n"
     ]
    }
   ],
   "source": [
    "%%writefile data/mnist.py\n",
    "import torchvision.transforms as transforms\n",
    "from torchvision.datasets import MNIST\n",
    "from torch.utils.data import DataLoader\n",
    "\n",
    "def get_mnist_dataloaders(batch_size=64, data_dir='./data'):\n",
    "    transform = transforms.Compose([\n",
    "        transforms.Resize(32),  # Ensures encoder outputs 4x4 feature maps after 3 downsamples\n",
    "        transforms.ToTensor(),\n",
    "        transforms.Lambda(lambda t: (t * 2) - 1)  # Scale images to [-1, 1]\n",
    "    ])\n",
    "\n",
    "    train_dataset = MNIST(root=data_dir, train=True, download=True, transform=transform)\n",
    "    test_dataset  = MNIST(root=data_dir, train=False, download=True, transform=transform)\n",
    "\n",
    "    train_loader = DataLoader(train_dataset, batch_size=batch_size, shuffle=True)\n",
    "    test_loader  = DataLoader(test_dataset, batch_size=batch_size, shuffle=False)\n",
    "    return train_loader, test_loader"
   ]
  },
  {
   "cell_type": "code",
   "execution_count": 4,
   "metadata": {},
   "outputs": [],
   "source": [
    "import torch\n",
    "import pytorch_lightning as pl\n",
    "import matplotlib.pyplot as plt\n",
    "\n",
    "from models.cond_unet import ConditionalUNet\n",
    "from models.cf_guided_diffusion import ClassifierFreeDiffusionModel\n",
    "from data.mnist import get_mnist_dataloaders"
   ]
  },
  {
   "cell_type": "code",
   "execution_count": 5,
   "metadata": {},
   "outputs": [],
   "source": [
    "train_loader, test_loader = get_mnist_dataloaders(batch_size=64)"
   ]
  },
  {
   "cell_type": "code",
   "execution_count": 6,
   "metadata": {},
   "outputs": [],
   "source": [
    "cond_unet = ConditionalUNet(\n",
    "    num_classes=10,\n",
    "    cond_drop_prob=0.1,\n",
    "    in_channels=1,\n",
    "    out_channels=1,\n",
    "    base_channels=64,\n",
    "    channel_mults=(1, 2, 4),\n",
    "    num_res_blocks=2,\n",
    "    time_emb_dim=256,\n",
    "    attn_resolutions=[]\n",
    ")\n",
    "\n",
    "cf_diffusion = ClassifierFreeDiffusionModel(model=cond_unet, T=1000, lr=1e-3, guidance_weight=5.0)"
   ]
  },
  {
   "cell_type": "code",
   "execution_count": 8,
   "metadata": {},
   "outputs": [
    {
     "name": "stderr",
     "output_type": "stream",
     "text": [
      "GPU available: True (cuda), used: True\n",
      "TPU available: False, using: 0 TPU cores\n",
      "HPU available: False, using: 0 HPUs\n",
      "LOCAL_RANK: 0 - CUDA_VISIBLE_DEVICES: [0]\n",
      "\n",
      "  | Name  | Type            | Params | Mode \n",
      "--------------------------------------------------\n",
      "0 | model | ConditionalUNet | 14.2 M | train\n",
      "--------------------------------------------------\n",
      "14.2 M    Trainable params\n",
      "0         Non-trainable params\n",
      "14.2 M    Total params\n",
      "56.699    Total estimated model params size (MB)\n",
      "172       Modules in train mode\n",
      "0         Modules in eval mode\n"
     ]
    },
    {
     "data": {
      "application/vnd.jupyter.widget-view+json": {
       "model_id": "fca05299f39543a4b18a3e3dd180e3cd",
       "version_major": 2,
       "version_minor": 0
      },
      "text/plain": [
       "Training: |          | 0/? [00:00<?, ?it/s]"
      ]
     },
     "metadata": {},
     "output_type": "display_data"
    },
    {
     "name": "stderr",
     "output_type": "stream",
     "text": [
      "`Trainer.fit` stopped: `max_epochs=15` reached.\n"
     ]
    }
   ],
   "source": [
    "trainer = pl.Trainer(\n",
    "    max_epochs=15,\n",
    "    accelerator=\"gpu\" if torch.cuda.is_available() else \"cpu\",\n",
    "    devices=1\n",
    ")\n",
    "trainer.fit(cf_diffusion, train_loader)"
   ]
  },
  {
   "cell_type": "code",
   "execution_count": 14,
   "metadata": {},
   "outputs": [],
   "source": [
    "def plot_samples(samples, title):\n",
    "    samples = (samples + 1) / 2  # scale to [0,1]\n",
    "    fig, axes = plt.subplots(4, 4, figsize=(8,8))\n",
    "    for i, ax in enumerate(axes.flatten()):\n",
    "        img = samples[i].squeeze().detach().cpu().numpy()\n",
    "        ax.imshow(img, cmap=\"gray\")\n",
    "        ax.axis(\"off\")\n",
    "    plt.suptitle(title)\n",
    "    plt.show()\n",
    "\n",
    "samples = cf_diffusion.sample(n_samples=16, class_label=torch.full((16,), 3, dtype=torch.long))"
   ]
  },
  {
   "cell_type": "code",
   "execution_count": 15,
   "metadata": {},
   "outputs": [
    {
     "data": {
      "image/png": "[encoded data removed]",
      "text/plain": [
       "<Figure size 800x800 with 16 Axes>"
      ]
     },
     "metadata": {},
     "output_type": "display_data"
    }
   ],
   "source": [
    "plot_samples(samples, \"Classifier-Free Guidance Samples (Class 3)\")"
   ]
  },
  {
   "cell_type": "code",
   "execution_count": null,
   "metadata": {},
   "outputs": [],
   "source": []
  }
 ],
 "metadata": {
  "kaggle": {
   "accelerator": "nvidiaTeslaT4",
   "dataSources": [],
   "isGpuEnabled": true,
   "isInternetEnabled": true,
   "language": "python",
   "sourceType": "notebook"
  },
  "kernelspec": {
   "display_name": "Python 3 (ipykernel)",
   "language": "python",
   "name": "python3"
  },
  "language_info": {
   "codemirror_mode": {
    "name": "ipython",
    "version": 3
   },
   "file_extension": ".py",
   "mimetype": "text/x-python",
   "name": "python",
   "nbconvert_exporter": "python",
   "pygments_lexer": "ipython3",
   "version": "3.11.10"
  }
 },
 "nbformat": 4,
 "nbformat_minor": 4
}
