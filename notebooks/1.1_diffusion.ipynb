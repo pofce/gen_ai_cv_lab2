{
 "cells": [
  {
   "cell_type": "code",
   "execution_count": 1,
   "id": "8c14360a8fb791b9",
   "metadata": {
    "execution": {
     "iopub.execute_input": "2025-02-19T12:14:03.727797Z",
     "iopub.status.busy": "2025-02-19T12:14:03.727572Z",
     "iopub.status.idle": "2025-02-19T12:14:03.854081Z",
     "shell.execute_reply": "2025-02-19T12:14:03.853024Z",
     "shell.execute_reply.started": "2025-02-19T12:14:03.727774Z"
    }
   },
   "outputs": [],
   "source": [
    "!mkdir -p data models"
   ]
  },
  {
   "cell_type": "code",
   "execution_count": 1,
   "id": "bfddf94df1b0868c",
   "metadata": {},
   "outputs": [
    {
     "name": "stdout",
     "output_type": "stream",
     "text": [
      "Writing data/mnist.py\n"
     ]
    }
   ],
   "source": [
    "%%writefile data/mnist.py\n",
    "import torchvision.transforms as transforms\n",
    "from torchvision.datasets import MNIST\n",
    "from torch.utils.data import DataLoader\n",
    "\n",
    "\n",
    "def get_mnist_dataloaders(batch_size=64, data_dir='./data'):\n",
    "    transform = transforms.Compose([\n",
    "        transforms.ToTensor(),\n",
    "        transforms.Lambda(lambda t: (t * 2) - 1)  # scale images to [-1, 1]\n",
    "    ])\n",
    "\n",
    "    train_dataset = MNIST(root=data_dir, train=True, download=True, transform=transform)\n",
    "    test_dataset = MNIST(root=data_dir, train=False, download=True, transform=transform)\n",
    "\n",
    "    train_loader = DataLoader(train_dataset, batch_size=batch_size, shuffle=True)\n",
    "    test_loader = DataLoader(test_dataset, batch_size=batch_size, shuffle=False)\n",
    "    return train_loader, test_loader"
   ]
  },
  {
   "cell_type": "code",
   "execution_count": 2,
   "id": "f213d55748971867",
   "metadata": {},
   "outputs": [
    {
     "name": "stdout",
     "output_type": "stream",
     "text": [
      "Writing models/unet.py\n"
     ]
    }
   ],
   "source": [
    "%%writefile models/unet.py\n",
    "import math\n",
    "import torch\n",
    "import torch.nn as nn\n",
    "import torch.nn.functional as F\n",
    "\n",
    "class SinusoidalPosEmb(nn.Module):\n",
    "    def __init__(self, dim):\n",
    "        super().__init__()\n",
    "        self.dim = dim\n",
    "\n",
    "    def forward(self, timesteps):\n",
    "        device = timesteps.device\n",
    "        half_dim = self.dim // 2\n",
    "        emb = math.log(10000) / (half_dim - 1)\n",
    "        emb = torch.exp(torch.arange(half_dim, device=device) * -emb)\n",
    "        emb = timesteps[:, None] * emb[None, :]\n",
    "        return torch.cat([torch.sin(emb), torch.cos(emb)], dim=-1)\n",
    "\n",
    "class ResBlock(nn.Module):\n",
    "    def __init__(self, in_channels, out_channels, time_emb_dim):\n",
    "        super().__init__()\n",
    "        self.time_mlp = nn.Sequential(\n",
    "            nn.SiLU(),\n",
    "            nn.Linear(time_emb_dim, out_channels)\n",
    "        )\n",
    "        self.conv1 = nn.Conv2d(in_channels, out_channels, kernel_size=3, padding=1)\n",
    "        self.conv2 = nn.Conv2d(out_channels, out_channels, kernel_size=3, padding=1)\n",
    "        self.norm1 = nn.GroupNorm(32, in_channels)\n",
    "        self.norm2 = nn.GroupNorm(32, out_channels)\n",
    "        self.residual_conv = nn.Conv2d(in_channels, out_channels, kernel_size=1) if in_channels != out_channels else nn.Identity()\n",
    "\n",
    "    def forward(self, x, t):\n",
    "        h = self.norm1(x)\n",
    "        h = F.silu(h)\n",
    "        h = self.conv1(h)\n",
    "        t_emb = self.time_mlp(t)[:, :, None, None]\n",
    "        h = h + t_emb\n",
    "        h = self.norm2(h)\n",
    "        h = F.silu(h)\n",
    "        h = self.conv2(h)\n",
    "        return h + self.residual_conv(x)\n",
    "\n",
    "class AttentionBlock(nn.Module):\n",
    "    def __init__(self, channels):\n",
    "        super().__init__()\n",
    "        self.norm = nn.GroupNorm(32, channels)\n",
    "        self.q = nn.Conv2d(channels, channels, kernel_size=1)\n",
    "        self.k = nn.Conv2d(channels, channels, kernel_size=1)\n",
    "        self.v = nn.Conv2d(channels, channels, kernel_size=1)\n",
    "        self.proj_out = nn.Conv2d(channels, channels, kernel_size=1)\n",
    "\n",
    "    def forward(self, x):\n",
    "        b, c, h, w = x.shape\n",
    "        x_norm = self.norm(x)\n",
    "        q = self.q(x_norm).reshape(b, c, -1).permute(0, 2, 1)\n",
    "        k = self.k(x_norm).reshape(b, c, -1)\n",
    "        v = self.v(x_norm).reshape(b, c, -1).permute(0, 2, 1)\n",
    "        attn = torch.bmm(q, k) * (c ** -0.5)\n",
    "        attn = torch.softmax(attn, dim=-1)\n",
    "        out = torch.bmm(attn, v).permute(0, 2, 1).reshape(b, c, h, w)\n",
    "        return x + self.proj_out(out)\n",
    "\n",
    "class Downsample(nn.Module):\n",
    "    def __init__(self, channels):\n",
    "        super().__init__()\n",
    "        self.conv = nn.Conv2d(channels, channels, kernel_size=3, stride=2, padding=1)\n",
    "\n",
    "    def forward(self, x):\n",
    "        return self.conv(x)\n",
    "\n",
    "class Upsample(nn.Module):\n",
    "    def __init__(self, channels):\n",
    "        super().__init__()\n",
    "        self.conv = nn.ConvTranspose2d(channels, channels, kernel_size=4, stride=2, padding=1)\n",
    "\n",
    "    def forward(self, x):\n",
    "        return self.conv(x)\n",
    "\n",
    "def center_crop(x, target_shape):\n",
    "    _, _, h, w = x.shape\n",
    "    th, tw = target_shape\n",
    "    start_h = (h - th) // 2\n",
    "    start_w = (w - tw) // 2\n",
    "    return x[:, :, start_h:start_h+th, start_w:start_w+tw]\n",
    "\n",
    "class DownBlock(nn.Module):\n",
    "    def __init__(self, in_channels, out_channels, time_emb_dim, num_res_blocks, use_attn=False):\n",
    "        super().__init__()\n",
    "        self.res_blocks = nn.ModuleList([\n",
    "            ResBlock(in_channels if i == 0 else out_channels, out_channels, time_emb_dim)\n",
    "            for i in range(num_res_blocks)\n",
    "        ])\n",
    "        self.use_attn = use_attn\n",
    "        if use_attn:\n",
    "            self.attn = AttentionBlock(out_channels)\n",
    "        self.downsample = Downsample(out_channels)\n",
    "\n",
    "    def forward(self, x, t):\n",
    "        skip_connections = []\n",
    "        for block in self.res_blocks:\n",
    "            x = block(x, t)\n",
    "            skip_connections.append(x)\n",
    "        if self.use_attn:\n",
    "            x = self.attn(x)\n",
    "        x_down = self.downsample(x)\n",
    "        return x_down, skip_connections\n",
    "\n",
    "class UpBlock(nn.Module):\n",
    "    def __init__(self, in_channels, out_channels, time_emb_dim, num_res_blocks, use_attn=False):\n",
    "        super().__init__()\n",
    "        self.upsample = nn.ConvTranspose2d(in_channels, in_channels, kernel_size=4, stride=2, padding=1)\n",
    "        self.res_blocks = nn.ModuleList([\n",
    "            ResBlock(in_channels + out_channels if i == 0 else out_channels, out_channels, time_emb_dim)\n",
    "            for i in range(num_res_blocks)\n",
    "        ])\n",
    "        self.use_attn = use_attn\n",
    "        if use_attn:\n",
    "            self.attn = AttentionBlock(out_channels)\n",
    "\n",
    "    def forward(self, x, skip_connections, t):\n",
    "        x = self.upsample(x)\n",
    "        skip = skip_connections.pop()  # one skip connection per block\n",
    "        if x.shape[2:] != skip.shape[2:]:\n",
    "            x = center_crop(x, skip.shape[2:])\n",
    "        x = torch.cat([x, skip], dim=1)\n",
    "        for block in self.res_blocks:\n",
    "            x = block(x, t)\n",
    "        if self.use_attn:\n",
    "            x = self.attn(x)\n",
    "        return x\n",
    "\n",
    "class UNet(nn.Module):\n",
    "    def __init__(self, in_channels=1, out_channels=1, base_channels=64,\n",
    "                 channel_mults=(1, 2, 4), num_res_blocks=2, time_emb_dim=256,\n",
    "                 attn_resolutions=None):\n",
    "        super().__init__()\n",
    "        if attn_resolutions is None:\n",
    "            attn_resolutions = []\n",
    "\n",
    "        self.time_embedding = nn.Sequential(\n",
    "            SinusoidalPosEmb(time_emb_dim),\n",
    "            nn.Linear(time_emb_dim, time_emb_dim * 4),\n",
    "            nn.SiLU(),\n",
    "            nn.Linear(time_emb_dim * 4, time_emb_dim)\n",
    "        )\n",
    "\n",
    "        self.initial_conv = nn.Conv2d(in_channels, base_channels, kernel_size=3, padding=1)\n",
    "        self.down_blocks = nn.ModuleList()\n",
    "        in_ch = base_channels\n",
    "        for i, mult in enumerate(channel_mults):\n",
    "            out_ch = base_channels * mult\n",
    "            use_attn = (i in attn_resolutions)\n",
    "            self.down_blocks.append(DownBlock(in_ch, out_ch, time_emb_dim, num_res_blocks, use_attn))\n",
    "            in_ch = out_ch\n",
    "\n",
    "        self.mid_block1 = ResBlock(in_ch, in_ch, time_emb_dim)\n",
    "        self.mid_attn = AttentionBlock(in_ch)\n",
    "        self.mid_block2 = ResBlock(in_ch, in_ch, time_emb_dim)\n",
    "\n",
    "        self.up_blocks = nn.ModuleList()\n",
    "        for i, mult in enumerate(reversed(channel_mults)):\n",
    "            out_ch = base_channels * mult\n",
    "            use_attn = ((len(channel_mults) - 1 - i) in attn_resolutions)\n",
    "            self.up_blocks.append(UpBlock(in_ch, out_ch, time_emb_dim, num_res_blocks, use_attn))\n",
    "            in_ch = out_ch\n",
    "\n",
    "        self.final_norm = nn.GroupNorm(32, in_ch)\n",
    "        self.final_act = nn.SiLU()\n",
    "        self.final_conv = nn.Conv2d(in_ch, out_channels, kernel_size=3, padding=1)\n",
    "\n",
    "    def forward(self, x, t):\n",
    "        t = t.to(x.device)\n",
    "        t_emb = self.time_embedding(t)\n",
    "        x = self.initial_conv(x)\n",
    "        skip_connections_all = []\n",
    "        for block in self.down_blocks:\n",
    "            x, skip_connections = block(x, t_emb)\n",
    "            skip_connections_all.append(skip_connections)\n",
    "        x = self.mid_block1(x, t_emb)\n",
    "        x = self.mid_attn(x)\n",
    "        x = self.mid_block2(x, t_emb)\n",
    "        for block in self.up_blocks:\n",
    "            skip_connections = skip_connections_all.pop()\n",
    "            x = block(x, skip_connections, t_emb)\n",
    "        x = self.final_norm(x)\n",
    "        x = self.final_act(x)\n",
    "        return self.final_conv(x)"
   ]
  },
  {
   "cell_type": "code",
   "execution_count": 3,
   "id": "3bb94899e8ddcf80",
   "metadata": {},
   "outputs": [
    {
     "name": "stdout",
     "output_type": "stream",
     "text": [
      "Writing models/diffusion.py\n"
     ]
    }
   ],
   "source": [
    "%%writefile models/diffusion.py\n",
    "import torch\n",
    "import torch.nn.functional as F\n",
    "import pytorch_lightning as pl\n",
    "\n",
    "\n",
    "class DiffusionModel(pl.LightningModule):\n",
    "    def __init__(self, model, T=1000, beta_start=1e-4, beta_end=0.02, lr=1e-3):\n",
    "        super().__init__()\n",
    "        self.model = model\n",
    "        self.T = T\n",
    "        self.lr = lr\n",
    "\n",
    "        beta = torch.linspace(beta_start, beta_end, T)\n",
    "        alpha = 1.0 - beta\n",
    "        alpha_bar = torch.cumprod(alpha, dim=0)\n",
    "        self.register_buffer(\"beta\", beta)\n",
    "        self.register_buffer(\"alpha\", alpha)\n",
    "        self.register_buffer(\"alpha_bar\", alpha_bar)\n",
    "        self.register_buffer(\"sqrt_alpha_bar\", torch.sqrt(alpha_bar))\n",
    "        self.register_buffer(\"sqrt_one_minus_alpha_bar\", torch.sqrt(1 - alpha_bar))\n",
    "\n",
    "    def forward(self, x, t):\n",
    "        return self.model(x, t)\n",
    "\n",
    "    def training_step(self, batch, batch_idx):\n",
    "        x, _ = batch  # (B,1,28,28) images expected in [-1,1]\n",
    "        B = x.size(0)\n",
    "        device = x.device\n",
    "\n",
    "        t = torch.randint(0, self.T, (B,), device=device)\n",
    "        sqrt_alpha_bar_t = self.sqrt_alpha_bar[t].view(B, 1, 1, 1)\n",
    "        sqrt_one_minus_alpha_bar_t = self.sqrt_one_minus_alpha_bar[t].view(B, 1, 1, 1)\n",
    "        noise = torch.randn_like(x)\n",
    "        x_t = sqrt_alpha_bar_t * x + sqrt_one_minus_alpha_bar_t * noise\n",
    "\n",
    "        pred_noise = self(x_t, t)\n",
    "        loss = F.mse_loss(pred_noise, noise)\n",
    "        self.log(\"train_loss\", loss)\n",
    "        return loss\n",
    "\n",
    "    def configure_optimizers(self):\n",
    "        return torch.optim.Adam(self.parameters(), lr=self.lr)\n",
    "\n",
    "    @torch.no_grad()\n",
    "    def sample(self, n_samples, ddim_steps=None, eta=0.0):\n",
    "        device = self.device\n",
    "        if ddim_steps is None:\n",
    "            ddim_steps = self.T\n",
    "            step_size = 1\n",
    "        else:\n",
    "            step_size = self.T // ddim_steps\n",
    "\n",
    "        x = torch.randn(n_samples, 1, 28, 28, device=device)\n",
    "        for i in range(self.T - 1, -1, -step_size):\n",
    "            t = torch.full((n_samples,), i, device=device, dtype=torch.long)\n",
    "            eps = self(x, t)\n",
    "            sqrt_alpha_bar_t = self.sqrt_alpha_bar[i].view(1, 1, 1, 1)\n",
    "            sqrt_one_minus_alpha_bar_t = self.sqrt_one_minus_alpha_bar[i].view(1, 1, 1, 1)\n",
    "            x0_pred = (x - sqrt_one_minus_alpha_bar_t * eps) / sqrt_alpha_bar_t\n",
    "            t_prev = max(i - step_size, 0)\n",
    "            sqrt_alpha_bar_t_prev = self.sqrt_alpha_bar[t_prev].view(1, 1, 1, 1)\n",
    "            sqrt_one_minus_alpha_bar_t_prev = self.sqrt_one_minus_alpha_bar[t_prev].view(1, 1, 1, 1)\n",
    "            x = sqrt_alpha_bar_t_prev * x0_pred + sqrt_one_minus_alpha_bar_t_prev * eps\n",
    "        return x"
   ]
  },
  {
   "cell_type": "code",
   "execution_count": 4,
   "id": "initial_id",
   "metadata": {},
   "outputs": [],
   "source": [
    "import torch\n",
    "import pytorch_lightning as pl\n",
    "import matplotlib.pyplot as plt\n",
    "\n",
    "from models.unet import UNet\n",
    "from models.diffusion import DiffusionModel\n",
    "from data.mnist import get_mnist_dataloaders"
   ]
  },
  {
   "cell_type": "code",
   "execution_count": 6,
   "id": "ce113aea89ccbdbd",
   "metadata": {},
   "outputs": [],
   "source": [
    "%%capture\n",
    "train_loader, test_loader = get_mnist_dataloaders(batch_size=256)"
   ]
  },
  {
   "cell_type": "code",
   "execution_count": 7,
   "id": "6eb895e9a58cd85",
   "metadata": {},
   "outputs": [],
   "source": [
    "unet_model = UNet(in_channels=1, out_channels=1)\n",
    "diffusion_model = DiffusionModel(model=unet_model, T=1000, lr=1e-3)"
   ]
  },
  {
   "cell_type": "code",
   "execution_count": 8,
   "id": "21973d70d817ac4c",
   "metadata": {},
   "outputs": [
    {
     "name": "stderr",
     "output_type": "stream",
     "text": [
      "GPU available: True (cuda), used: True\n",
      "TPU available: False, using: 0 TPU cores\n",
      "HPU available: False, using: 0 HPUs\n",
      "/opt/conda/lib/python3.11/site-packages/pytorch_lightning/trainer/connectors/logger_connector/logger_connector.py:76: Starting from v1.9.0, `tensorboardX` has been removed as a dependency of the `pytorch_lightning` package, due to potential conflicts with other packages in the ML ecosystem. For this reason, `logger=True` will use `CSVLogger` as the default logger, unless the `tensorboard` or `tensorboardX` packages are found. Please `pip install lightning[extra]` or one of them to enable TensorBoard support by default\n",
      "You are using a CUDA device ('NVIDIA GeForce RTX 4070 Ti SUPER') that has Tensor Cores. To properly utilize them, you should set `torch.set_float32_matmul_precision('medium' | 'high')` which will trade-off precision for performance. For more details, read https://pytorch.org/docs/stable/generated/torch.set_float32_matmul_precision.html#torch.set_float32_matmul_precision\n",
      "LOCAL_RANK: 0 - CUDA_VISIBLE_DEVICES: [0]\n",
      "\n",
      "  | Name  | Type | Params | Mode \n",
      "---------------------------------------\n",
      "0 | model | UNet | 13.9 M | train\n",
      "---------------------------------------\n",
      "13.9 M    Trainable params\n",
      "0         Non-trainable params\n",
      "13.9 M    Total params\n",
      "55.634    Total estimated model params size (MB)\n",
      "165       Modules in train mode\n",
      "0         Modules in eval mode\n",
      "/opt/conda/lib/python3.11/site-packages/pytorch_lightning/trainer/connectors/data_connector.py:425: The 'train_dataloader' does not have many workers which may be a bottleneck. Consider increasing the value of the `num_workers` argument` to `num_workers=95` in the `DataLoader` to improve performance.\n"
     ]
    },
    {
     "data": {
      "application/vnd.jupyter.widget-view+json": {
       "model_id": "9b3a26b060be41509b2cb57096810fa8",
       "version_major": 2,
       "version_minor": 0
      },
      "text/plain": [
       "Training: |          | 0/? [00:00<?, ?it/s]"
      ]
     },
     "metadata": {},
     "output_type": "display_data"
    },
    {
     "name": "stderr",
     "output_type": "stream",
     "text": [
      "`Trainer.fit` stopped: `max_epochs=40` reached.\n"
     ]
    }
   ],
   "source": [
    "trainer = pl.Trainer(\n",
    "    max_epochs=40,\n",
    "    accelerator=\"gpu\" if torch.cuda.is_available() else \"cpu\",\n",
    "    devices=1\n",
    ")\n",
    "\n",
    "trainer.fit(diffusion_model, train_loader)"
   ]
  },
  {
   "cell_type": "code",
   "execution_count": 10,
   "id": "b1727ed5898c8b15",
   "metadata": {},
   "outputs": [
    {
     "data": {
      "image/png": "[encoded data removed]",
      "text/plain": [
       "<Figure size 800x800 with 16 Axes>"
      ]
     },
     "metadata": {},
     "output_type": "display_data"
    }
   ],
   "source": [
    "samples = diffusion_model.sample(n_samples=16, ddim_steps=100)\n",
    "\n",
    "fig, axes = plt.subplots(4, 4, figsize=(8, 8))\n",
    "for i, ax in enumerate(axes.flatten()):\n",
    "    ax.imshow(samples[i].squeeze().cpu().numpy(), cmap=\"gray\")\n",
    "    ax.axis(\"off\")\n",
    "plt.show()"
   ]
  },
  {
   "cell_type": "code",
   "execution_count": null,
   "id": "4509e5e7-a8c8-4146-97a2-e95d8887cfa0",
   "metadata": {},
   "outputs": [],
   "source": []
  }
 ],
 "metadata": {
  "kaggle": {
   "accelerator": "nvidiaTeslaT4",
   "dataSources": [],
   "dockerImageVersionId": 30887,
   "isGpuEnabled": true,
   "isInternetEnabled": true,
   "language": "python",
   "sourceType": "notebook"
  },
  "kernelspec": {
   "display_name": "Python 3 (ipykernel)",
   "language": "python",
   "name": "python3"
  },
  "language_info": {
   "codemirror_mode": {
    "name": "ipython",
    "version": 3
   },
   "file_extension": ".py",
   "mimetype": "text/x-python",
   "name": "python",
   "nbconvert_exporter": "python",
   "pygments_lexer": "ipython3",
   "version": "3.11.10"
  }
 },
 "nbformat": 4,
 "nbformat_minor": 5
}
